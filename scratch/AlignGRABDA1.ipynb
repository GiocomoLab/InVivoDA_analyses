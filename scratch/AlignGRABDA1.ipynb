{
 "cells": [
  {
   "cell_type": "code",
   "execution_count": 1,
   "metadata": {},
   "outputs": [],
   "source": [
    "import numpy as np\n",
    "import suite2p as s2p\n",
    "import s2p_preprocessing as s2p_pp\n",
    "\n",
    "import matplotlib.pyplot as plt\n",
    "import os\n",
    "import scipy as sp\n",
    "\n",
    "%matplotlib inline\n",
    "\n",
    "%load_ext autoreload\n",
    "%autoreload 2\n"
   ]
  },
  {
   "cell_type": "code",
   "execution_count": 45,
   "metadata": {},
   "outputs": [],
   "source": [
    "# basedir = \"H:\\\\2P_Data\\\\\"\n",
    "basedir = \"InVivoDA/2P_Data\"\n",
    "mouse = \"GRABDA6\"\n",
    "date = \"10_12_2020\"\n",
    "scene = \"NeuroMods_Days2to5\"\n",
    "scan = \"%s_002_001\" % scene\n",
    "\n",
    "\n",
    "remote_path = os.path.join(basedir,mouse,date,scene)\n",
    "local_path = os.path.join('/home/mplitt/2P_scratch',mouse,date,scene)\n",
    "data_path = os.path.join(local_path,scan)"
   ]
  },
  {
   "cell_type": "code",
   "execution_count": 46,
   "metadata": {},
   "outputs": [],
   "source": [
    "!mkdir -p {local_path}"
   ]
  },
  {
   "cell_type": "code",
   "execution_count": 47,
   "metadata": {},
   "outputs": [],
   "source": [
    "!rclone copy gdrive:{remote_path} {local_path}"
   ]
  },
  {
   "cell_type": "code",
   "execution_count": 48,
   "metadata": {},
   "outputs": [
    {
     "name": "stdout",
     "output_type": "stream",
     "text": [
      "/home/mplitt/2P_scratch/GRABDA6/10_12_2020/NeuroMods_Days2to5/NeuroMods_Days2to5_002_001.mat\n",
      "/home/mplitt/2P_scratch/GRABDA6/10_12_2020/NeuroMods_Days2to5/NeuroMods_Days2to5_002_001.sbx\n"
     ]
    }
   ],
   "source": [
    "!ls {local_path}/*"
   ]
  },
  {
   "cell_type": "code",
   "execution_count": 49,
   "metadata": {},
   "outputs": [
    {
     "name": "stdout",
     "output_type": "stream",
     "text": [
      "0\n",
      "1630208 1000\n",
      "0\n",
      "0 1000\n",
      "1000\n",
      "1630208 1000\n",
      "1630208000\n",
      "1000 2000\n",
      "2000\n",
      "1630208 1000\n",
      "3260416000\n",
      "2000 3000\n",
      "3000\n",
      "1630208 1000\n",
      "4890624000\n",
      "3000 4000\n",
      "4000\n",
      "1630208 1000\n",
      "6520832000\n",
      "4000 5000\n",
      "5000\n",
      "1630208 1000\n",
      "8151040000\n",
      "5000 6000\n",
      "6000\n",
      "1630208 1000\n",
      "9781248000\n",
      "6000 7000\n",
      "7000\n",
      "1630208 1000\n",
      "11411456000\n",
      "7000 8000\n",
      "8000\n",
      "1630208 1000\n",
      "13041664000\n",
      "8000 9000\n",
      "9000\n",
      "1630208 1000\n",
      "14671872000\n",
      "9000 10000\n",
      "10000\n",
      "1630208 1000\n",
      "16302080000\n",
      "10000 11000\n",
      "11000\n",
      "1630208 1000\n",
      "17932288000\n",
      "11000 12000\n",
      "12000\n",
      "1630208 1000\n",
      "19562496000\n",
      "12000 13000\n",
      "13000\n",
      "1630208 1000\n",
      "21192704000\n",
      "13000 14000\n",
      "14000\n",
      "1630208 1000\n",
      "22822912000\n",
      "14000 15000\n",
      "15000\n",
      "1630208 1000\n",
      "24453120000\n",
      "15000 16000\n",
      "16000\n",
      "1630208 1000\n",
      "26083328000\n",
      "16000 17000\n",
      "17000\n",
      "1630208 949\n",
      "27713536000\n",
      "17000 17949\n"
     ]
    }
   ],
   "source": [
    "\n",
    "h5path = s2p_pp.sbx2h5(os.path.join(local_path,scan),output_name=os.path.join(local_path,scan+\".h5\"))"
   ]
  },
  {
   "cell_type": "code",
   "execution_count": 50,
   "metadata": {},
   "outputs": [
    {
     "name": "stdout",
     "output_type": "stream",
     "text": [
      "{'frame': array([  133,   133,   134, ..., 17946, 17948, 17949], dtype=uint16), 'line': array([274, 407,  18, ..., 336, 136, 359], dtype=uint16), 'event_id': array([1, 1, 1, ..., 1, 1, 1], dtype=uint8), 'resfreq': 7916, 'postTriggerSamples': 5000, 'recordsPerBuffer': 512, 'bytesPerBuffer': 10240000, 'channels': 1, 'ballmotion': array([], dtype=float64), 'abort_bit': 0, 'scanbox_version': 2, 'scanmode': 1, 'config': {'wavelength': 980, 'frames': 0, 'lines': 512, 'magnification': 1, 'magnification_list': array(['1.0', '1.2', '1.4', '1.7', '2.0', '2.4', '2.8', '3.4', '4.0',\n",
      "       '4.8', '5.7', '6.7', '8.0'], dtype='<U3'), 'pmt0_gain': 0.7, 'pmt1_gain': 0.89, 'knobby': {'pos': {'x': -5.06, 'y': 1.94, 'z': 1.32, 'a': 10}, 'schedule': array([[  0,   0,  10,   0,  30],\n",
      "       [  0,   0,  10,   0,  60],\n",
      "       [  0,   0,  10,   0,  90],\n",
      "       [  0,   0,  10,   0, 120],\n",
      "       [  0,   0,  10,   0, 150],\n",
      "       [  0,   0,  10,   0, 180]], dtype=uint8)}}, 'sz': array([512, 796], dtype=uint16), 'fold_lines': 0, 'otwave': array([], dtype=float64), 'otwave_um': array([], dtype=float64), 'otparam': array([], dtype=float64), 'otwavestyle': 1, 'volscan': 0, 'power_depth_link': 0, 'opto2pow': array([], dtype=float64), 'area_line': 1, 'calibration': array([<scipy.io.matlab.mio5_params.mat_struct object at 0x7f65388bef90>,\n",
      "       <scipy.io.matlab.mio5_params.mat_struct object at 0x7f65388be710>,\n",
      "       <scipy.io.matlab.mio5_params.mat_struct object at 0x7f65388bea10>,\n",
      "       <scipy.io.matlab.mio5_params.mat_struct object at 0x7f65388bedd0>,\n",
      "       <scipy.io.matlab.mio5_params.mat_struct object at 0x7f65388bea50>,\n",
      "       <scipy.io.matlab.mio5_params.mat_struct object at 0x7f65388be590>,\n",
      "       <scipy.io.matlab.mio5_params.mat_struct object at 0x7f65388be810>,\n",
      "       <scipy.io.matlab.mio5_params.mat_struct object at 0x7f65388be050>,\n",
      "       <scipy.io.matlab.mio5_params.mat_struct object at 0x7f65388be1d0>,\n",
      "       <scipy.io.matlab.mio5_params.mat_struct object at 0x7f65388bee90>,\n",
      "       <scipy.io.matlab.mio5_params.mat_struct object at 0x7f65388bef10>,\n",
      "       <scipy.io.matlab.mio5_params.mat_struct object at 0x7f65388bed50>,\n",
      "       <scipy.io.matlab.mio5_params.mat_struct object at 0x7f65388beed0>],\n",
      "      dtype=object), 'objective': 'Nikon 16x/0.8w/WD3.0', 'messages': array([], dtype=float64), 'usernotes': array([], dtype=float64), 'nChan': 2, 'max_idx': 17949, 'frame_rate': 15.4609375}\n"
     ]
    }
   ],
   "source": [
    "info = s2p_pp.loadmat(data_path+'.mat')\n",
    "print(info)"
   ]
  },
  {
   "cell_type": "code",
   "execution_count": 51,
   "metadata": {},
   "outputs": [],
   "source": [
    "# fast_dir = os.path.join(\"F:\",mouse,date)\n",
    "# os.makedirs(fast_dir,exist_ok=True)\n",
    "ops = s2p_pp.set_ops(d={'h5py': h5path,\n",
    "                        'save_path0': os.path.splitext(h5path)[0],\n",
    "                        'fast_disk':[],\n",
    "                        'move_bin':True,\n",
    "                        'nchannels':2,\n",
    "                        'tau':.7,\n",
    "                        'functional_chan':2,\n",
    "                        'fs':info['frame_rate'],\n",
    "                        'roidetect':True,\n",
    "                        'input_format':\"h5\",\n",
    "                        'h5py_key':'data',\n",
    "                        'nchannels':2,\n",
    "                        'sparse_mode':True,\n",
    "                        'allow_overlap':True,\n",
    "                        'threshold_scaling':1.,\n",
    "                        'aspect': 512./796.})"
   ]
  },
  {
   "cell_type": "code",
   "execution_count": 52,
   "metadata": {},
   "outputs": [
    {
     "name": "stdout",
     "output_type": "stream",
     "text": [
      "{}\n",
      "h5\n",
      "time 140.26 sec. Wrote 17949 frames per binary for 1 planes\n",
      ">>>>>>>>>>>>>>>>>>>>> PLANE 0 <<<<<<<<<<<<<<<<<<<<<<\n",
      "NOTE: not registered / registration forced with ops['do_registration']>1\n",
      "      (no previous offsets to delete)\n",
      "----------- REGISTRATION\n",
      "registering 17949 frames\n",
      "NOTE: estimated bidiphase offset from data: 0 pixels\n",
      "Reference frame, 16.40 sec.\n",
      "Registered 2000/17949 in 65.85s\n",
      "Registered 4000/17949 in 130.28s\n",
      "Registered 6000/17949 in 194.68s\n",
      "Registered 8000/17949 in 258.86s\n",
      "Registered 10000/17949 in 323.45s\n",
      "Registered 12000/17949 in 387.54s\n",
      "Registered 14000/17949 in 451.70s\n",
      "Registered 16000/17949 in 516.36s\n",
      "Registered 17949/17949 in 579.59s\n",
      "Registered second channel in 106.98 sec.\n",
      "----------- Total 708.48 sec\n",
      "Registration metrics, 22.03 sec.\n",
      "NOTE: applying default /home/mplitt/.suite2p/classifiers/classifier_user.npy\n",
      "----------- ROI DETECTION\n",
      "Binning movie in chunks of length 11\n",
      "Binned movie [1575,416,694], 33.82 sec.\n",
      "NOTE: estimated spatial scale ~12 pixels, time epochs 1.31, threshold 13.12 \n",
      "0 ROIs, score=122.37\n",
      "Found 959 ROIs, 31.75 sec\n",
      "After removing overlaps, 935 ROIs remain\n",
      "Masks made in 16.56 sec.\n",
      ">>>> CELLPOSE estimating masks in anatomical channel\n",
      "ERROR importing or running cellpose, continuing without anatomical estimates\n",
      "----------- Total 103.11 sec.\n",
      "----------- EXTRACTION\n",
      "Extracted fluorescence from 935 ROIs in 17949 frames, 41.98 sec.\n",
      "Extracted fluorescence from 935 ROIs in 17949 frames, 42.23 sec.\n",
      "added enhanced mean image\n",
      "----------- Total 93.93 sec.\n",
      "----------- CLASSIFICATION\n",
      "['skew', 'npix_norm', 'compact']\n",
      "----------- Total 0.02 sec.\n",
      "----------- SPIKE DECONVOLUTION\n",
      "----------- Total 0.98 sec.\n",
      "Plane 0 processed in 929.26 sec (can open in GUI).\n",
      "total = 1070.28 sec.\n",
      "TOTAL RUNTIME 1070.28 sec\n"
     ]
    }
   ],
   "source": [
    "ops=s2p.run_s2p(ops=ops)"
   ]
  },
  {
   "cell_type": "code",
   "execution_count": null,
   "metadata": {},
   "outputs": [],
   "source": []
  }
 ],
 "metadata": {
  "kernelspec": {
   "display_name": "Python 3",
   "language": "python",
   "name": "python3"
  },
  "language_info": {
   "codemirror_mode": {
    "name": "ipython",
    "version": 3
   },
   "file_extension": ".py",
   "mimetype": "text/x-python",
   "name": "python",
   "nbconvert_exporter": "python",
   "pygments_lexer": "ipython3",
   "version": "3.7.9"
  }
 },
 "nbformat": 4,
 "nbformat_minor": 4
}
