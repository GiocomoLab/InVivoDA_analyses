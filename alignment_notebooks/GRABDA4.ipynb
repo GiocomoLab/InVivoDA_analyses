{
 "cells": [
  {
   "cell_type": "code",
   "execution_count": 1,
   "metadata": {},
   "outputs": [],
   "source": [
    "import numpy as np\n",
    "import scipy as sp\n",
    "import suite2p as s2p\n",
    "import TwoPUtils\n",
    "import os\n",
    "\n",
    "%load_ext autoreload\n",
    "%autoreload 2"
   ]
  },
  {
   "cell_type": "code",
   "execution_count": 2,
   "metadata": {},
   "outputs": [],
   "source": [
    "write_folder = os.path.join('/mnt','BigDisk','2P_scratch')\n",
    "mouse = 'GRABDA4'\n",
    "\n",
    "file_list = ({'date': '05_12_2020', 'scene':'SingleMorph','session':1,'scan':2},\n",
    "             {'date': '06_12_2020', 'scene':'SingleMorph','session':2,'scan':2},\n",
    "             {'date': '07_12_2020', 'scene':'SingleMorph','session':3,'scan':3},\n",
    "             {'date': '09_12_2020', 'scene':'SingleMorph','session':2,'scan':2},\n",
    "             {'date': '10_12_2020', 'scene':'NeuroMods_Day6Image','session':3,'scan':4},\n",
    "             {'date': '11_12_2020', 'scene':'NeuroMods_LocationB','session':2,'scan':2},\n",
    "             {'date': '12_12_2020', 'scene':'NeuroMods_Day8Image','session':1,'scan':4},\n",
    "             {'date': '13_12_2020', 'scene':'NeuroMods_LocationA','session':2,'scan':2},\n",
    "             {'date': '14_12_2020', 'scene':'NM_MorphBlocks','session':2,'scan':4},\n",
    "             {'date': '16_12_2020', 'scene':'NM_RandomMorphs','session':2,'scan':3},\n",
    "             {'date': '18_12_2020', 'scene':'NM_RandomMorphs','session':3,'scan':2},\n",
    "             {'date': '19_12_2020', 'scene':'NM_Morph1ToDreamLand','session':1,'scan':2},\n",
    "             {'date': '21_12_2020', 'scene':'NM_Morph1ToDreamLand','session':2,'scan':2},\n",
    "             {'date': '23_12_2020', 'scene':'NM_DreamLandToPizzaLand','session':1,'scan':2},\n",
    "             {'date': '25_12_2020', 'scene':'NM_PizzaLandOnly','session':2,'scan':3})\n",
    "\n"
   ]
  },
  {
   "cell_type": "code",
   "execution_count": 5,
   "metadata": {},
   "outputs": [
    {
     "name": "stdout",
     "output_type": "stream",
     "text": [
      "/mnt/BigDisk/2P_scratch/GRABDA4/25_12_2020/NM_PizzaLandOnly/NM_PizzaLandOnly_002_003/NM_PizzaLandOnly_002_003.h5 /mnt/BigDisk/2P_scratch/GRABDA4/25_12_2020/NM_PizzaLandOnly/NM_PizzaLandOnly_002_003\n",
      "{}\n",
      "FOUND BINARIES AND OPS IN ['/mnt/BigDisk/2P_scratch/GRABDA4/25_12_2020/NM_PizzaLandOnly/NM_PizzaLandOnly_002_003/suite2p/plane0/ops.npy']\n",
      ">>>>>>>>>>>>>>>>>>>>> PLANE 0 <<<<<<<<<<<<<<<<<<<<<<\n",
      "NOTE: not running registration, plane already registered\n",
      "NOTE: applying default /home/mplitt/.suite2p/classifiers/classifier_user.npy\n",
      "----------- ROI DETECTION\n",
      "Binning movie in chunks of length 11\n",
      "Binned movie [1452,416,694], 32.30 sec.\n",
      "NOTE: estimated spatial scale ~12 pixels, time epochs 1.21, threshold 12.10 \n",
      "0 ROIs, score=135.73\n",
      "1000 ROIs, score=12.33\n",
      "Found 1022 ROIs, 28.33 sec\n",
      "After removing overlaps, 985 ROIs remain\n",
      "Masks made in 14.79 sec.\n",
      ">>>> CELLPOSE estimating masks in anatomical channel\n",
      "ERROR importing or running cellpose, continuing without anatomical estimates\n",
      "----------- Total 95.29 sec.\n",
      "----------- EXTRACTION\n",
      "Extracted fluorescence from 985 ROIs in 17802 frames, 40.24 sec.\n",
      "Extracted fluorescence from 985 ROIs in 17802 frames, 87.25 sec.\n",
      "added enhanced mean image\n",
      "----------- Total 141.21 sec.\n",
      "----------- CLASSIFICATION\n",
      "['compact', 'npix_norm', 'skew']\n",
      "----------- Total 0.03 sec.\n",
      "----------- SPIKE DECONVOLUTION\n",
      "----------- Total 0.95 sec.\n",
      "Plane 0 processed in 237.57 sec (can open in GUI).\n",
      "total = 238.72 sec.\n",
      "TOTAL RUNTIME 238.73 sec\n"
     ]
    }
   ],
   "source": [
    "for f in file_list[-1:]:\n",
    "    \n",
    "    scan_str = \"%s_%03d_%03d\" % (f['scene'],f['session'],f['scan'])\n",
    "    \n",
    "    \n",
    "    try:\n",
    "        source_folder  = os.path.join('/media/mplitt','Backup Plus')\n",
    "        source_stem = os.path.join(source_folder,mouse,f['date'],f['scene'],scan_str)\n",
    "        info = TwoPUtils.scanner_tools.sbx_utils.loadmat(source_stem+'.mat')\n",
    "    except:\n",
    "        source_folder  = os.path.join('/media/mplitt','Backup Plus1','2P_Data')\n",
    "        source_stem = os.path.join(source_folder,mouse,f['date'],f['scene'],scan_str)\n",
    "        info = TwoPUtils.scanner_tools.sbx_utils.loadmat(source_stem+'.mat')\n",
    "            \n",
    "    file_stem = os.path.join(write_folder,mouse,f['date'],f['scene'],scan_str)\n",
    "    h5path = os.path.join(file_stem,scan_str+\".h5\")\n",
    "#     if not os.path.exists(h5path):\n",
    "#         _ = TwoPUtils.scanner_tools.sbx_utils.sbx2h5(source_stem,output_name=h5path,force_2chan=True)\n",
    "    print(h5path,os.path.split(h5path)[0])\n",
    "    ops = TwoPUtils.s2p.set_ops(d={'data_path': [os.path.split(h5path)[0]],\n",
    "                                   'save_path0': file_stem,\n",
    "                                   'fast_disk':[],\n",
    "                                   'move_bin':True,\n",
    "                                   'two_step_registration':True,\n",
    "                                   'maxregshiftNR':10,\n",
    "                                   'nchannels':2,\n",
    "                                   'tau':.7,\n",
    "                                   'functional_chan':2,\n",
    "                                   'nimg_init': 2000,\n",
    "                                   'fs':info['frame_rate'],\n",
    "                                   'roidetect':True,\n",
    "                                   'input_format':\"h5\",\n",
    "                                   'h5py_key':'data',\n",
    "                                   'sparse_mode':True,\n",
    "                                   'threshold_scaling':1.,\n",
    "                                   'nchannels':2})\n",
    "    ops=s2p.run_s2p(ops=ops)\n",
    "\n",
    "#     os.remove(h5path)"
   ]
  },
  {
   "cell_type": "code",
   "execution_count": 6,
   "metadata": {},
   "outputs": [
    {
     "name": "stdout",
     "output_type": "stream",
     "text": [
      "/mnt/BigDisk/2P_scratch/GRABDA4/05_12_2020/SingleMorph/SingleMorph_001_002/SingleMorph_001_002.h5\n"
     ]
    }
   ],
   "source": [
    "print(h5path)"
   ]
  },
  {
   "cell_type": "code",
   "execution_count": null,
   "metadata": {},
   "outputs": [],
   "source": []
  }
 ],
 "metadata": {
  "kernelspec": {
   "display_name": "STX3",
   "language": "python",
   "name": "stx3"
  },
  "language_info": {
   "codemirror_mode": {
    "name": "ipython",
    "version": 3
   },
   "file_extension": ".py",
   "mimetype": "text/x-python",
   "name": "python",
   "nbconvert_exporter": "python",
   "pygments_lexer": "ipython3",
   "version": "3.7.9"
  }
 },
 "nbformat": 4,
 "nbformat_minor": 5
}
