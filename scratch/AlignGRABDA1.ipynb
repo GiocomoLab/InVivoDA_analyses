{
 "cells": [
  {
   "cell_type": "code",
   "execution_count": 1,
   "metadata": {},
   "outputs": [],
   "source": [
    "import numpy as np\n",
    "import suite2p as s2p\n",
    "import suite2p_processing as s2p_pp\n",
    "import PlittGiocomo_CA1Morph_2019 as utils\n",
    "import matplotlib.pyplot as plt\n",
    "import os\n",
    "import scipy as sp\n",
    "\n",
    "%matplotlib inline\n",
    "\n",
    "%load_ext autoreload\n",
    "%autoreload 2\n"
   ]
  },
  {
   "cell_type": "code",
   "execution_count": 26,
   "metadata": {},
   "outputs": [],
   "source": [
    "basedir = \"E:\\\\2P_Data\\\\GRABDA1\"\n",
    "date = \"15_03_2020\"\n",
    "scene = \"VTA_SingleScene\"\n",
    "scan = \"%s_002_008\" % scene\n"
   ]
  },
  {
   "cell_type": "code",
   "execution_count": 27,
   "metadata": {},
   "outputs": [],
   "source": [
    "outpath = os.path.join(basedir,date,scene,scan)\n",
    "try: \n",
    "    os.makedirs(outpath)\n",
    "except:\n",
    "    print(\"dir creation failed\")"
   ]
  },
  {
   "cell_type": "code",
   "execution_count": 28,
   "metadata": {},
   "outputs": [
    {
     "name": "stdout",
     "output_type": "stream",
     "text": [
      "0\n",
      "815104 1000\n",
      "0\n",
      "0 1000\n",
      "1000\n",
      "815104 1000\n",
      "815104000\n",
      "1000 2000\n",
      "2000\n",
      "815104 1000\n",
      "1630208000\n",
      "2000 3000\n",
      "3000\n",
      "815104 1000\n",
      "2445312000\n",
      "3000 4000\n",
      "4000\n",
      "815104 1000\n",
      "3260416000\n",
      "4000 5000\n",
      "5000\n",
      "815104 1000\n",
      "4075520000\n",
      "5000 6000\n",
      "6000\n",
      "815104 1000\n",
      "4890624000\n",
      "6000 7000\n",
      "7000\n",
      "815104 1000\n",
      "5705728000\n",
      "7000 8000\n",
      "8000\n",
      "815104 1000\n",
      "6520832000\n",
      "8000 9000\n",
      "9000\n",
      "815104 1000\n",
      "7335936000\n",
      "9000 10000\n",
      "10000\n",
      "815104 1000\n",
      "8151040000\n",
      "10000 11000\n",
      "11000\n",
      "815104 1000\n",
      "8966144000\n",
      "11000 12000\n",
      "12000\n",
      "815104 1000\n",
      "9781248000\n",
      "12000 13000\n",
      "13000\n",
      "815104 1000\n",
      "10596352000\n",
      "13000 14000\n",
      "14000\n",
      "815104 1000\n",
      "11411456000\n",
      "14000 15000\n",
      "15000\n",
      "815104 1000\n",
      "12226560000\n",
      "15000 16000\n",
      "16000\n",
      "815104 1000\n",
      "13041664000\n",
      "16000 17000\n",
      "17000\n",
      "815104 1000\n",
      "13856768000\n",
      "17000 18000\n",
      "18000\n",
      "815104 1000\n",
      "14671872000\n",
      "18000 19000\n",
      "19000\n",
      "815104 1000\n",
      "15486976000\n",
      "19000 20000\n",
      "20000\n",
      "815104 1000\n",
      "16302080000\n",
      "20000 21000\n",
      "21000\n",
      "815104 1000\n",
      "17117184000\n",
      "21000 22000\n",
      "22000\n",
      "815104 1000\n",
      "17932288000\n",
      "22000 23000\n",
      "23000\n",
      "815104 1000\n",
      "18747392000\n",
      "23000 24000\n",
      "24000\n",
      "815104 1000\n",
      "19562496000\n",
      "24000 25000\n",
      "25000\n",
      "815104 1000\n",
      "20377600000\n",
      "25000 26000\n",
      "26000\n",
      "815104 1000\n",
      "21192704000\n",
      "26000 27000\n",
      "27000\n",
      "815104 1000\n",
      "22007808000\n",
      "27000 28000\n",
      "28000\n",
      "815104 1000\n",
      "22822912000\n",
      "28000 29000\n",
      "29000\n",
      "815104 295\n",
      "23638016000\n",
      "29000 29295\n"
     ]
    }
   ],
   "source": [
    "\n",
    "h5path = s2p_pp.s2p_preprocessing.sbx2h5(outpath,output_name=os.path.join(outpath,scan+\".h5\"))"
   ]
  },
  {
   "cell_type": "code",
   "execution_count": 29,
   "metadata": {},
   "outputs": [],
   "source": [
    "ops = s2p_pp.s2p_preprocessing.set_ops({'h5py':h5path,\n",
    "                                       'save_path0':os.path.join(basedir,date,scene,scan),\n",
    "                                       'aspect':512./796.,\n",
    "                                       'threshold_scaling':.1,\n",
    "                                       'spikedetect':False})"
   ]
  },
  {
   "cell_type": "code",
   "execution_count": null,
   "metadata": {},
   "outputs": [
    {
     "name": "stdout",
     "output_type": "stream",
     "text": [
      "{}\n",
      "h5\n",
      "time 716.26 sec. Wrote h5py to binaries for 1 planes\n",
      ">>>>>>>>>>>>>>>>>>>>> PLANE 0 <<<<<<<<<<<<<<<<<<<<<<\n",
      "----------- REGISTRATION\n",
      "registering 29295 frames\n",
      "NOTE: estimated bidiphase offset from data: 0 pixels\n",
      "Reference frame, 36.56 sec.\n",
      "2500/29295 frames, 157.23 sec.\n",
      "5000/29295 frames, 322.53 sec.\n",
      "7500/29295 frames, 494.57 sec.\n",
      "10000/29295 frames, 670.77 sec.\n",
      "12500/29295 frames, 837.02 sec.\n",
      "15000/29295 frames, 999.12 sec.\n",
      "17500/29295 frames, 1153.66 sec.\n",
      "20000/29295 frames, 1308.08 sec.\n",
      "22500/29295 frames, 1463.32 sec.\n",
      "25000/29295 frames, 1630.11 sec.\n",
      "27500/29295 frames, 1786.91 sec.\n",
      "29295/29295 frames, 1909.75 sec.\n",
      "bad frames file path: E:\\2P_Data\\GRABDA1\\15_03_2020\\VTA_SingleScene\\VTA_SingleScene_002_008\\bad_frames.npy\n",
      "----------- Total 1948.53 sec\n",
      "Registration metrics, 88.57 sec.\n",
      "----------- ROI DETECTION AND EXTRACTION\n",
      "Binning movie in chunks of length 15\n",
      "Binned movie [1953,484,770], 239.65 sec.\n",
      "NOTE: estimated spatial scale ~12 pixels, time epochs 1.63, threshold 1.63 \n",
      "0 ROIs, score=57.75\n",
      "1000 ROIs, score=32.26\n",
      "2000 ROIs, score=30.65\n",
      "3000 ROIs, score=29.78\n",
      "4000 ROIs, score=29.21\n",
      "Found 5000 ROIs, 483.46 sec\n",
      "NOTE: applying classifier c:\\users\\markp\\repos\\suite2p_git\\suite2p\\extraction\\../classifiers/classifier_user.npy\n"
     ]
    },
    {
     "name": "stderr",
     "output_type": "stream",
     "text": [
      "C:\\Users\\markp\\anaconda3\\lib\\site-packages\\sklearn\\linear_model\\logistic.py:432: FutureWarning: Default solver will be changed to 'lbfgs' in 0.22. Specify a solver to silence this warning.\n",
      "  FutureWarning)\n"
     ]
    },
    {
     "name": "stdout",
     "output_type": "stream",
     "text": [
      "After removing overlaps, 4996 ROIs remain\n",
      "Masks made in 109.48 sec.\n"
     ]
    }
   ],
   "source": [
    "ops=s2p.run_s2p.run_s2p(ops=ops)"
   ]
  },
  {
   "cell_type": "code",
   "execution_count": null,
   "metadata": {},
   "outputs": [],
   "source": []
  }
 ],
 "metadata": {
  "kernelspec": {
   "display_name": "Python 3",
   "language": "python",
   "name": "python3"
  },
  "language_info": {
   "codemirror_mode": {
    "name": "ipython",
    "version": 3
   },
   "file_extension": ".py",
   "mimetype": "text/x-python",
   "name": "python",
   "nbconvert_exporter": "python",
   "pygments_lexer": "ipython3",
   "version": "3.7.4"
  }
 },
 "nbformat": 4,
 "nbformat_minor": 4
}
