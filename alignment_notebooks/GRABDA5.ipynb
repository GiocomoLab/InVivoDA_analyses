{
 "cells": [
  {
   "cell_type": "code",
   "execution_count": 9,
   "metadata": {},
   "outputs": [
    {
     "name": "stdout",
     "output_type": "stream",
     "text": [
      "The autoreload extension is already loaded. To reload it, use:\n",
      "  %reload_ext autoreload\n"
     ]
    }
   ],
   "source": [
    "import numpy as np\n",
    "import scipy as sp\n",
    "import suite2p as s2p\n",
    "import TwoPUtils\n",
    "import os\n",
    "from matplotlib import pyplot as plt\n",
    "\n",
    "%matplotlib inline\n",
    "\n",
    "%load_ext autoreload\n",
    "%autoreload 2"
   ]
  },
  {
   "cell_type": "code",
   "execution_count": 10,
   "metadata": {},
   "outputs": [],
   "source": [
    "write_folder = os.path.join('/mnt','BigDisk','2P_scratch')\n",
    "mouse = 'GRABDA5'\n",
    "\n",
    "file_list = ({'date': '08_12_2020', 'scene':'SingleMorph','session':1,'scan':4},\n",
    "             {'date': '10_12_2020', 'scene':'NeuroMods_LocationA','session':2,'scan':2},\n",
    "             {'date': '12_12_2020', 'scene':'NeuroMods_LocationA','session':2,'scan':3},\n",
    "             {'date': '13_12_2020', 'scene':'NeuroMods_Day6Image','session':1,'scan':2},\n",
    "             {'date': '14_12_2020', 'scene':'NeuroMods_LocationB','session':2,'scan':2},\n",
    "             {'date': '15_12_2020', 'scene':'NeuroMods_Day8Image','session':3,'scan':7},\n",
    "             {'date': '16_12_2020', 'scene':'NeuroMods_LocationA','session':2,'scan':3},\n",
    "             {'date': '17_12_2020', 'scene':'NM_MorphBlocks','session':1,'scan':1},\n",
    "             {'date': '19_12_2020', 'scene':'NM_RandomMorphs','session':2,'scan':2},\n",
    "             {'date': '21_12_2020', 'scene':'NM_RandomMorphs','session':2,'scan':2},\n",
    "             {'date': '22_12_2020', 'scene':'NM_Morph1ToDreamLand','session':1,'scan':2},\n",
    "             {'date': '24_12_2020', 'scene':'NM_Morph1ToDreamLand','session':2,'scan':2},\n",
    "             {'date': '26_12_2020', 'scene':'NM_DreamLandToPizzaLand','session':2,'scan':3},\n",
    "             {'date': '28_12_2020', 'scene':'NM_PizzaLandOnly','session':2,'scan':2},\n",
    "             {'date': '28_12_2020', 'scene':'NM_PizzaLandOnly','session':3,'scan':5})\n",
    "\n",
    "\n",
    "# file_list = ({'date': '26_12_2020', 'scene':'NM_DreamLandToPizzaLand','session':2,'scan':3},\n",
    "#              {'date': '28_12_2020', 'scene':'NM_PizzaLandOnly','session':2,'scan':2},\n",
    "#              {'date': '28_12_2020', 'scene':'NM_PizzaLandOnly','session':3,'scan':5})\n"
   ]
  },
  {
   "cell_type": "code",
   "execution_count": 11,
   "metadata": {},
   "outputs": [
    {
     "name": "stdout",
     "output_type": "stream",
     "text": [
      "21165\n",
      "16568\n",
      "24789\n",
      "27442\n",
      "15639\n",
      "22298\n",
      "17279\n",
      "21598\n",
      "21961\n",
      "22672\n",
      "25984\n",
      "22448\n",
      "21819\n",
      "22865\n",
      "15935\n"
     ]
    }
   ],
   "source": [
    "for f in file_list:\n",
    "    \n",
    "    scan_str = \"%s_%03d_%03d\" % (f['scene'],f['session'],f['scan'])\n",
    "    \n",
    "    \n",
    "    try:\n",
    "        source_folder  = os.path.join('/media/mplitt','Backup Plus')\n",
    "        source_stem = os.path.join(source_folder,mouse,f['date'],f['scene'],scan_str)\n",
    "        info = TwoPUtils.scanner_tools.sbx_utils.loadmat(source_stem+'.mat')\n",
    "    except:\n",
    "        source_folder  = os.path.join('/media/mplitt','Backup Plus1','2P_Data')\n",
    "        source_stem = os.path.join(source_folder,mouse,f['date'],f['scene'],scan_str)\n",
    "        info = TwoPUtils.scanner_tools.sbx_utils.loadmat(source_stem+'.mat')\n",
    "    print(info['max_idx'])"
   ]
  },
  {
   "cell_type": "code",
   "execution_count": 15,
   "metadata": {},
   "outputs": [
    {
     "name": "stdout",
     "output_type": "stream",
     "text": [
      "/mnt/BigDisk/2P_scratch/GRABDA5/26_12_2020/NM_DreamLandToPizzaLand/NM_DreamLandToPizzaLand_002_003/NM_DreamLandToPizzaLand_002_003.h5 /mnt/BigDisk/2P_scratch/GRABDA5/26_12_2020/NM_DreamLandToPizzaLand/NM_DreamLandToPizzaLand_002_003\n",
      "{}\n",
      "FOUND BINARIES AND OPS IN ['/mnt/BigDisk/2P_scratch/GRABDA5/26_12_2020/NM_DreamLandToPizzaLand/NM_DreamLandToPizzaLand_002_003/suite2p/plane0/ops.npy']\n",
      ">>>>>>>>>>>>>>>>>>>>> PLANE 0 <<<<<<<<<<<<<<<<<<<<<<\n",
      "NOTE: not running registration, plane already registered\n",
      "NOTE: applying default /home/mplitt/.suite2p/classifiers/classifier_user.npy\n",
      "----------- ROI DETECTION\n",
      "Binning movie in chunks of length 11\n",
      "Binned movie [1817,416,694], 98.61 sec.\n",
      "NOTE: estimated spatial scale ~12 pixels, time epochs 1.51, threshold 11.36 \n",
      "0 ROIs, score=172.38\n",
      "Found 767 ROIs, 33.08 sec\n",
      "After removing overlaps, 760 ROIs remain\n",
      "Masks made in 9.15 sec.\n",
      ">>>> CELLPOSE estimating masks in anatomical channel\n",
      "ERROR importing or running cellpose, continuing without anatomical estimates\n",
      "----------- Total 153.92 sec.\n",
      "----------- EXTRACTION\n",
      "Extracted fluorescence from 760 ROIs in 21819 frames, 102.85 sec.\n",
      "Extracted fluorescence from 760 ROIs in 21819 frames, 105.24 sec.\n",
      "added enhanced mean image\n",
      "----------- Total 221.67 sec.\n",
      "----------- CLASSIFICATION\n",
      "['npix_norm', 'compact', 'skew']\n",
      "----------- Total 0.03 sec.\n",
      "----------- SPIKE DECONVOLUTION\n",
      "----------- Total 0.89 sec.\n",
      "Plane 0 processed in 376.61 sec (can open in GUI).\n",
      "total = 378.32 sec.\n",
      "TOTAL RUNTIME 378.32 sec\n"
     ]
    }
   ],
   "source": [
    "for f in file_list[-3:-2]:\n",
    "    \n",
    "    scan_str = \"%s_%03d_%03d\" % (f['scene'],f['session'],f['scan'])\n",
    "    \n",
    "    \n",
    "    try:\n",
    "        source_folder  = os.path.join('/media/mplitt','Backup Plus')\n",
    "        source_stem = os.path.join(source_folder,mouse,f['date'],f['scene'],scan_str)\n",
    "        info = TwoPUtils.scanner_tools.sbx_utils.loadmat(source_stem+'.mat')\n",
    "    except:\n",
    "        source_folder  = os.path.join('/media/mplitt','Backup Plus1','2P_Data')\n",
    "        source_stem = os.path.join(source_folder,mouse,f['date'],f['scene'],scan_str)\n",
    "        info = TwoPUtils.scanner_tools.sbx_utils.loadmat(source_stem+'.mat')\n",
    "            \n",
    "    file_stem = os.path.join(write_folder,mouse,f['date'],f['scene'],scan_str)\n",
    "    h5path = os.path.join(file_stem,scan_str+\".h5\")\n",
    "#     if not os.path.exists(h5path):\n",
    "#         _ = TwoPUtils.scanner_tools.sbx_utils.sbx2h5(source_stem,output_name=h5path,force_2chan=True)\n",
    "    print(h5path,os.path.split(h5path)[0])\n",
    "    ops = TwoPUtils.s2p.set_ops(d={'data_path': [os.path.split(h5path)[0]],\n",
    "                                   'save_path0': file_stem,\n",
    "                                   'fast_disk':[],\n",
    "                                   'move_bin':True,\n",
    "                                   'two_step_registration':True,\n",
    "                                   'maxregshiftNR':10,\n",
    "                                   'nchannels':2,\n",
    "                                   'tau':.7,\n",
    "                                   'functional_chan':2,\n",
    "                                   'nimg_init': 2000,\n",
    "                                   'fs':info['frame_rate'],\n",
    "                                   'roidetect':True,\n",
    "                                   'input_format':\"h5\",\n",
    "                                   'h5py_key':'data',\n",
    "                                   'sparse_mode':True,\n",
    "                                   'threshold_scaling':.75,\n",
    "                                   'nchannels':2})\n",
    "    ops=s2p.run_s2p(ops=ops)\n",
    "\n",
    "#     os.remove(h5path)"
   ]
  },
  {
   "cell_type": "code",
   "execution_count": null,
   "metadata": {},
   "outputs": [],
   "source": []
  }
 ],
 "metadata": {
  "kernelspec": {
   "display_name": "STX3",
   "language": "python",
   "name": "stx3"
  },
  "language_info": {
   "codemirror_mode": {
    "name": "ipython",
    "version": 3
   },
   "file_extension": ".py",
   "mimetype": "text/x-python",
   "name": "python",
   "nbconvert_exporter": "python",
   "pygments_lexer": "ipython3",
   "version": "3.7.9"
  }
 },
 "nbformat": 4,
 "nbformat_minor": 5
}
