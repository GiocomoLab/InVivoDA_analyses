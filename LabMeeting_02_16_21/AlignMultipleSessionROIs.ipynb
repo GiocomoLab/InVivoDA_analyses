{
 "cells": [
  {
   "cell_type": "code",
   "execution_count": 1,
   "id": "familiar-orchestra",
   "metadata": {},
   "outputs": [],
   "source": [
    "import os\n",
    "\n",
    "import numpy as np\n",
    "import scipy as sp\n",
    "from matplotlib import pyplot as plt\n",
    "\n",
    "import TwoPUtils\n",
    "\n",
    "%matplotlib inline"
   ]
  },
  {
   "cell_type": "code",
   "execution_count": 2,
   "id": "powerful-berkeley",
   "metadata": {},
   "outputs": [],
   "source": [
    "\n",
    "# set paths for mouse\n"
   ]
  },
  {
   "cell_type": "code",
   "execution_count": null,
   "id": "induced-viewer",
   "metadata": {},
   "outputs": [],
   "source": [
    "# for each session\n",
    "    \n",
    "    # load ops\n",
    "    \n",
    "    \n",
    "    # plot mean img\n",
    "    \n",
    "    \n",
    "    # stack mean images into vector\n",
    "    \n",
    "    \n",
    "    # rigid alignment to day 1\n",
    "    \n",
    "    \n",
    "    # nonrigid alignment to day 1"
   ]
  }
 ],
 "metadata": {
  "kernelspec": {
   "display_name": "Python 3",
   "language": "python",
   "name": "python3"
  },
  "language_info": {
   "codemirror_mode": {
    "name": "ipython",
    "version": 3
   },
   "file_extension": ".py",
   "mimetype": "text/x-python",
   "name": "python",
   "nbconvert_exporter": "python",
   "pygments_lexer": "ipython3",
   "version": "3.7.9"
  }
 },
 "nbformat": 4,
 "nbformat_minor": 5
}
