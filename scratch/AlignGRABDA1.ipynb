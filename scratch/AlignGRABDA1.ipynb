{
 "cells": [
  {
   "cell_type": "code",
   "execution_count": 1,
   "metadata": {},
   "outputs": [
    {
     "ename": "ModuleNotFoundError",
     "evalue": "No module named 's2p_preprocessing'",
     "output_type": "error",
     "traceback": [
      "\u001b[0;31m---------------------------------------------------------------------------\u001b[0m",
      "\u001b[0;31mModuleNotFoundError\u001b[0m                       Traceback (most recent call last)",
      "\u001b[0;32m<ipython-input-1-c1976a41bb8f>\u001b[0m in \u001b[0;36m<module>\u001b[0;34m\u001b[0m\n\u001b[1;32m      1\u001b[0m \u001b[0;32mimport\u001b[0m \u001b[0mnumpy\u001b[0m \u001b[0;32mas\u001b[0m \u001b[0mnp\u001b[0m\u001b[0;34m\u001b[0m\u001b[0;34m\u001b[0m\u001b[0m\n\u001b[1;32m      2\u001b[0m \u001b[0;32mimport\u001b[0m \u001b[0msuite2p\u001b[0m \u001b[0;32mas\u001b[0m \u001b[0ms2p\u001b[0m\u001b[0;34m\u001b[0m\u001b[0;34m\u001b[0m\u001b[0m\n\u001b[0;32m----> 3\u001b[0;31m \u001b[0;32mimport\u001b[0m \u001b[0ms2p_preprocessing\u001b[0m \u001b[0;32mas\u001b[0m \u001b[0ms2p_pp\u001b[0m\u001b[0;34m\u001b[0m\u001b[0;34m\u001b[0m\u001b[0m\n\u001b[0m\u001b[1;32m      4\u001b[0m \u001b[0;34m\u001b[0m\u001b[0m\n\u001b[1;32m      5\u001b[0m \u001b[0;32mimport\u001b[0m \u001b[0mmatplotlib\u001b[0m\u001b[0;34m.\u001b[0m\u001b[0mpyplot\u001b[0m \u001b[0;32mas\u001b[0m \u001b[0mplt\u001b[0m\u001b[0;34m\u001b[0m\u001b[0;34m\u001b[0m\u001b[0m\n",
      "\u001b[0;31mModuleNotFoundError\u001b[0m: No module named 's2p_preprocessing'"
     ]
    }
   ],
   "source": [
    "import numpy as np\n",
    "import suite2p as s2p\n",
    "import s2p_preprocessing as s2p_pp\n",
    "\n",
    "import matplotlib.pyplot as plt\n",
    "import os\n",
    "import scipy as sp\n",
    "\n",
    "%matplotlib inline\n",
    "\n",
    "%load_ext autoreload\n",
    "%autoreload 2\n"
   ]
  },
  {
   "cell_type": "code",
   "execution_count": 2,
   "metadata": {},
   "outputs": [],
   "source": [
    "# basedir = \"H:\\\\2P_Data\\\\\"\n",
    "basedir = \"InVivoDA/2P_Data\"\n",
    "mouse = \"GRABDA4\"\n",
    "date = \"19_12_2020\"\n",
    "scene = \"NM_Morph1ToDreamLand\"\n",
    "scan = \"%s_001_002\" % scene\n",
    "\n",
    "\n",
    "remote_path = os.path.join(basedir,mouse,date,scene)\n",
    "local_path = os.path.join('/home/mplitt/2P_scratch',mouse,date,scene)\n",
    "data_path = os.path.join(local_path,scan)"
   ]
  },
  {
   "cell_type": "code",
   "execution_count": 3,
   "metadata": {},
   "outputs": [
    {
     "name": "stdout",
     "output_type": "stream",
     "text": [
      "/home/mplitt/2P_scratch/GRABDA4/19_12_2020/NM_Morph1ToDreamLand InVivoDA/2P_Data/GRABDA4/19_12_2020/NM_Morph1ToDreamLand\n"
     ]
    }
   ],
   "source": [
    "print(local_path,remote_path)"
   ]
  },
  {
   "cell_type": "code",
   "execution_count": 4,
   "metadata": {},
   "outputs": [],
   "source": [
    "!mkdir -p {local_path}"
   ]
  },
  {
   "cell_type": "code",
   "execution_count": 5,
   "metadata": {},
   "outputs": [],
   "source": [
    "!rclone copy gdrive:{remote_path} {local_path}"
   ]
  },
  {
   "cell_type": "code",
   "execution_count": 6,
   "metadata": {},
   "outputs": [
    {
     "name": "stdout",
     "output_type": "stream",
     "text": [
      "/home/mplitt/2P_scratch/GRABDA4/19_12_2020/NM_Morph1ToDreamLand/NM_Morph1ToDreamLand_001_002.mat\n",
      "/home/mplitt/2P_scratch/GRABDA4/19_12_2020/NM_Morph1ToDreamLand/NM_Morph1ToDreamLand_001_002.sbx\n"
     ]
    }
   ],
   "source": [
    "!ls {local_path}/*"
   ]
  },
  {
   "cell_type": "code",
   "execution_count": 7,
   "metadata": {},
   "outputs": [
    {
     "name": "stdout",
     "output_type": "stream",
     "text": [
      "0\n",
      "1630208.0 1000\n",
      "0\n",
      "0 1000\n",
      "1000\n",
      "1630208.0 1000\n",
      "1630208000\n",
      "1000 2000\n",
      "2000\n",
      "1630208.0 1000\n",
      "3260416000\n",
      "2000 3000\n",
      "3000\n",
      "1630208.0 1000\n",
      "4890624000\n",
      "3000 4000\n",
      "4000\n",
      "1630208.0 1000\n",
      "6520832000\n",
      "4000 5000\n",
      "5000\n",
      "1630208.0 1000\n",
      "8151040000\n",
      "5000 6000\n",
      "6000\n",
      "1630208.0 1000\n",
      "9781248000\n",
      "6000 7000\n",
      "7000\n",
      "1630208.0 1000\n",
      "11411456000\n",
      "7000 8000\n",
      "8000\n",
      "1630208.0 1000\n",
      "13041664000\n",
      "8000 9000\n",
      "9000\n",
      "1630208.0 1000\n",
      "14671872000\n",
      "9000 10000\n",
      "10000\n",
      "1630208.0 1000\n",
      "16302080000\n",
      "10000 11000\n",
      "11000\n",
      "1630208.0 1000\n",
      "17932288000\n",
      "11000 12000\n",
      "12000\n",
      "1630208.0 1000\n",
      "19562496000\n",
      "12000 13000\n",
      "13000\n",
      "1630208.0 1000\n",
      "21192704000\n",
      "13000 14000\n",
      "14000\n",
      "1630208.0 1000\n",
      "22822912000\n",
      "14000 15000\n",
      "15000\n",
      "1630208.0 1000\n",
      "24453120000\n",
      "15000 16000\n",
      "16000\n",
      "1630208.0 1000\n",
      "26083328000\n",
      "16000 17000\n",
      "17000\n",
      "1630208.0 1000\n",
      "27713536000\n",
      "17000 18000\n",
      "18000\n",
      "1630208.0 1000\n",
      "29343744000\n",
      "18000 19000\n",
      "19000\n",
      "1630208.0 1000\n",
      "30973952000\n",
      "19000 20000\n",
      "20000\n",
      "1630208.0 1000\n",
      "32604160000\n",
      "20000 21000\n",
      "21000\n",
      "1630208.0 36\n",
      "34234368000\n",
      "21000 21036\n"
     ]
    }
   ],
   "source": [
    "\n",
    "h5path = s2p_pp.sbx2h5(os.path.join(local_path,scan),output_name=os.path.join(local_path,scan+\".h5\"))"
   ]
  },
  {
   "cell_type": "code",
   "execution_count": 8,
   "metadata": {},
   "outputs": [
    {
     "name": "stdout",
     "output_type": "stream",
     "text": [
      "{'frame': array([  132,   133,   133, ..., 21034, 21034, 21036], dtype=uint16), 'line': array([499, 145, 292, ..., 156, 338, 197], dtype=uint16), 'event_id': array([1, 1, 1, ..., 1, 1, 1], dtype=uint8), 'resfreq': 7916, 'postTriggerSamples': 5000, 'recordsPerBuffer': 512, 'bytesPerBuffer': 10240000, 'channels': 1, 'ballmotion': array([], dtype=float64), 'abort_bit': 0, 'scanbox_version': 2, 'scanmode': 1, 'config': {'wavelength': 980, 'frames': 0, 'lines': 512, 'magnification': 1, 'magnification_list': array(['1.0', '1.2', '1.4', '1.7', '2.0', '2.4', '2.8', '3.4', '4.0',\n",
      "       '4.8', '5.7', '6.7', '8.0'], dtype='<U3'), 'pmt0_gain': 0.68, 'pmt1_gain': 0.89, 'knobby': {'pos': {'x': 37.9, 'y': 9.56, 'z': 5.7, 'a': 10}, 'schedule': array([[  0,   0,  10,   0,  30],\n",
      "       [  0,   0,  10,   0,  60],\n",
      "       [  0,   0,  10,   0,  90],\n",
      "       [  0,   0,  10,   0, 120],\n",
      "       [  0,   0,  10,   0, 150],\n",
      "       [  0,   0,  10,   0, 180]], dtype=uint8)}}, 'sz': array([512, 796], dtype=uint16), 'fold_lines': 0, 'otwave': array([], dtype=float64), 'otwave_um': array([], dtype=float64), 'otparam': array([], dtype=float64), 'otwavestyle': 1, 'volscan': 0, 'power_depth_link': 0, 'opto2pow': array([], dtype=float64), 'area_line': 1, 'calibration': array([<scipy.io.matlab.mio5_params.mat_struct object at 0x7f7f686d0050>,\n",
      "       <scipy.io.matlab.mio5_params.mat_struct object at 0x7f7f686d09d0>,\n",
      "       <scipy.io.matlab.mio5_params.mat_struct object at 0x7f7f686d01d0>,\n",
      "       <scipy.io.matlab.mio5_params.mat_struct object at 0x7f7f686d0a10>,\n",
      "       <scipy.io.matlab.mio5_params.mat_struct object at 0x7f7f686d0310>,\n",
      "       <scipy.io.matlab.mio5_params.mat_struct object at 0x7f7f686cc4d0>,\n",
      "       <scipy.io.matlab.mio5_params.mat_struct object at 0x7f7f686cc8d0>,\n",
      "       <scipy.io.matlab.mio5_params.mat_struct object at 0x7f7f686ccd10>,\n",
      "       <scipy.io.matlab.mio5_params.mat_struct object at 0x7f7f686cc810>,\n",
      "       <scipy.io.matlab.mio5_params.mat_struct object at 0x7f7f686ccc50>,\n",
      "       <scipy.io.matlab.mio5_params.mat_struct object at 0x7f7f686cc310>,\n",
      "       <scipy.io.matlab.mio5_params.mat_struct object at 0x7f7f686cc510>,\n",
      "       <scipy.io.matlab.mio5_params.mat_struct object at 0x7f7f686cc1d0>],\n",
      "      dtype=object), 'objective': 'Nikon 16x/0.8w/WD3.0', 'messages': array([], dtype=float64), 'usernotes': array([], dtype=float64), 'nChan': 2, 'fov_repeats': 1, 'max_idx': 21036, 'frame_rate': 15.4609375}\n"
     ]
    }
   ],
   "source": [
    "info = s2p_pp.loadmat(data_path+'.mat')\n",
    "print(info)"
   ]
  },
  {
   "cell_type": "code",
   "execution_count": 9,
   "metadata": {},
   "outputs": [],
   "source": [
    "# fast_dir = os.path.join(\"F:\",mouse,date)\n",
    "# os.makedirs(fast_dir,exist_ok=True)\n",
    "h5path = os.path.join(local_path,scan+\".h5\")\n",
    "ops = s2p_pp.set_ops(d={'h5py': h5path,\n",
    "                        'save_path0': os.path.splitext(h5path)[0],\n",
    "                        'fast_disk':[],\n",
    "                        'move_bin':True,\n",
    "                        'nchannels':2,\n",
    "                        'tau':.7,\n",
    "                        'functional_chan':2,\n",
    "                        'fs':info['frame_rate'],\n",
    "                        'roidetect':True,\n",
    "                        'input_format':\"h5\",\n",
    "                        'h5py_key':'data',\n",
    "                        'nchannels':2,\n",
    "                        'sparse_mode':True,\n",
    "                        'allow_overlap':True,\n",
    "                        'threshold_scaling':1.,\n",
    "                        'aspect': 512./796.})"
   ]
  },
  {
   "cell_type": "code",
   "execution_count": 10,
   "metadata": {},
   "outputs": [
    {
     "name": "stdout",
     "output_type": "stream",
     "text": [
      "{}\n",
      "h5\n",
      "time 164.03 sec. Wrote 21036 frames per binary for 1 planes\n",
      ">>>>>>>>>>>>>>>>>>>>> PLANE 0 <<<<<<<<<<<<<<<<<<<<<<\n",
      "NOTE: not registered / registration forced with ops['do_registration']>1\n",
      "      (no previous offsets to delete)\n",
      "----------- REGISTRATION\n",
      "registering 21036 frames\n",
      "NOTE: estimated bidiphase offset from data: 0 pixels\n",
      "Reference frame, 16.46 sec.\n",
      "Registered 2000/21036 in 66.55s\n",
      "Registered 4000/21036 in 132.32s\n",
      "Registered 6000/21036 in 198.23s\n",
      "Registered 8000/21036 in 264.25s\n",
      "Registered 10000/21036 in 330.65s\n",
      "Registered 12000/21036 in 396.43s\n",
      "Registered 14000/21036 in 462.32s\n",
      "Registered 16000/21036 in 528.58s\n",
      "Registered 18000/21036 in 594.05s\n",
      "Registered 20000/21036 in 659.26s\n",
      "Registered second channel in 127.53 sec.\n",
      "----------- Total 843.04 sec\n",
      "Registration metrics, 22.71 sec.\n",
      "NOTE: applying default /home/mplitt/.suite2p/classifiers/classifier_user.npy\n",
      "----------- ROI DETECTION\n",
      "Binning movie in chunks of length 11\n",
      "Binned movie [1773,416,694], 39.45 sec.\n",
      "NOTE: estimated spatial scale ~6 pixels, time epochs 1.48, threshold 7.39 \n",
      "0 ROIs, score=129.46\n",
      "1000 ROIs, score=22.95\n",
      "2000 ROIs, score=12.57\n",
      "Found 2918 ROIs, 62.76 sec\n",
      "After removing overlaps, 2559 ROIs remain\n",
      "Masks made in 77.20 sec.\n",
      ">>>> CELLPOSE estimating masks in anatomical channel\n",
      "ERROR importing or running cellpose, continuing without anatomical estimates\n",
      "----------- Total 266.71 sec.\n",
      "----------- EXTRACTION\n",
      "Extracted fluorescence from 2559 ROIs in 21036 frames, 81.75 sec.\n",
      "Extracted fluorescence from 2559 ROIs in 21036 frames, 83.99 sec.\n",
      "added enhanced mean image\n",
      "----------- Total 170.15 sec.\n",
      "----------- CLASSIFICATION\n",
      "['skew', 'compact', 'npix_norm']\n",
      "----------- Total 0.03 sec.\n",
      "----------- SPIKE DECONVOLUTION\n",
      "----------- Total 2.92 sec.\n",
      "Plane 0 processed in 1306.45 sec (can open in GUI).\n",
      "total = 1471.40 sec.\n",
      "TOTAL RUNTIME 1471.40 sec\n"
     ]
    }
   ],
   "source": [
    "ops=s2p.run_s2p(ops=ops)"
   ]
  },
  {
   "cell_type": "code",
   "execution_count": 11,
   "metadata": {},
   "outputs": [],
   "source": [
    "!rm {os.path.join(local_path,scan+'.h5')}"
   ]
  },
  {
   "cell_type": "code",
   "execution_count": 43,
   "metadata": {},
   "outputs": [],
   "source": [
    "!rclone copy {local_path} gdrive:{remote_path} "
   ]
  },
  {
   "cell_type": "code",
   "execution_count": null,
   "metadata": {},
   "outputs": [],
   "source": []
  }
 ],
 "metadata": {
  "kernelspec": {
   "display_name": "Python 3",
   "language": "python",
   "name": "python3"
  },
  "language_info": {
   "codemirror_mode": {
    "name": "ipython",
    "version": 3
   },
   "file_extension": ".py",
   "mimetype": "text/x-python",
   "name": "python",
   "nbconvert_exporter": "python",
   "pygments_lexer": "ipython3",
   "version": "3.7.9"
  }
 },
 "nbformat": 4,
 "nbformat_minor": 4
}
